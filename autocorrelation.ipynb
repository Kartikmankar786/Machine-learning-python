{
 "cells": [
  {
   "cell_type": "code",
   "execution_count": 46,
   "id": "4b862458-0c31-406e-8fdf-4692021c1cd5",
   "metadata": {},
   "outputs": [],
   "source": [
    "import pandas as pd\n",
    "import numpy as np\n",
    "\n",
    "# Set random seed for reproducibility\n",
    "np.random.seed(0)\n",
    "\n",
    "# Generate synthetic temperature data for 365 days\n",
    "dates = pd.date_range('2023-01-01', periods=365)\n",
    "temperatures = np.random.normal(loc=20, scale=5, size=365)  # Mean=20, Std Dev=5\n",
    "\n",
    "# Create a pandas DataFrame for the temperature data\n",
    "data = pd.DataFrame({'Date': dates, 'Temperature': temperatures})"
   ]
  },
  {
   "cell_type": "code",
   "execution_count": 47,
   "id": "ffdc5c73-1fb8-41d9-8099-8462c955b923",
   "metadata": {},
   "outputs": [],
   "source": [
    "data['auto_1'] = data['Temperature'].autocorr(lag=1)"
   ]
  },
  {
   "cell_type": "code",
   "execution_count": 48,
   "id": "66b0e9d8-19e9-497f-98b5-5fcb752bb5cd",
   "metadata": {},
   "outputs": [],
   "source": [
    "data['previous_temp'] = data['Temperature'].shift(1)"
   ]
  },
  {
   "cell_type": "code",
   "execution_count": 49,
   "id": "c7469daf-09a9-48fa-ad72-09d90d3b0ec4",
   "metadata": {},
   "outputs": [
    {
     "data": {
      "text/html": [
       "<div>\n",
       "<style scoped>\n",
       "    .dataframe tbody tr th:only-of-type {\n",
       "        vertical-align: middle;\n",
       "    }\n",
       "\n",
       "    .dataframe tbody tr th {\n",
       "        vertical-align: top;\n",
       "    }\n",
       "\n",
       "    .dataframe thead th {\n",
       "        text-align: right;\n",
       "    }\n",
       "</style>\n",
       "<table border=\"1\" class=\"dataframe\">\n",
       "  <thead>\n",
       "    <tr style=\"text-align: right;\">\n",
       "      <th></th>\n",
       "      <th>Date</th>\n",
       "      <th>Temperature</th>\n",
       "      <th>auto_1</th>\n",
       "      <th>previous_temp</th>\n",
       "    </tr>\n",
       "  </thead>\n",
       "  <tbody>\n",
       "    <tr>\n",
       "      <th>0</th>\n",
       "      <td>2023-01-01</td>\n",
       "      <td>28.820262</td>\n",
       "      <td>-0.031775</td>\n",
       "      <td>NaN</td>\n",
       "    </tr>\n",
       "    <tr>\n",
       "      <th>1</th>\n",
       "      <td>2023-01-02</td>\n",
       "      <td>22.000786</td>\n",
       "      <td>-0.031775</td>\n",
       "      <td>28.820262</td>\n",
       "    </tr>\n",
       "    <tr>\n",
       "      <th>2</th>\n",
       "      <td>2023-01-03</td>\n",
       "      <td>24.893690</td>\n",
       "      <td>-0.031775</td>\n",
       "      <td>22.000786</td>\n",
       "    </tr>\n",
       "    <tr>\n",
       "      <th>3</th>\n",
       "      <td>2023-01-04</td>\n",
       "      <td>31.204466</td>\n",
       "      <td>-0.031775</td>\n",
       "      <td>24.893690</td>\n",
       "    </tr>\n",
       "    <tr>\n",
       "      <th>4</th>\n",
       "      <td>2023-01-05</td>\n",
       "      <td>29.337790</td>\n",
       "      <td>-0.031775</td>\n",
       "      <td>31.204466</td>\n",
       "    </tr>\n",
       "    <tr>\n",
       "      <th>...</th>\n",
       "      <td>...</td>\n",
       "      <td>...</td>\n",
       "      <td>...</td>\n",
       "      <td>...</td>\n",
       "    </tr>\n",
       "    <tr>\n",
       "      <th>360</th>\n",
       "      <td>2023-12-27</td>\n",
       "      <td>23.492286</td>\n",
       "      <td>-0.031775</td>\n",
       "      <td>23.101791</td>\n",
       "    </tr>\n",
       "    <tr>\n",
       "      <th>361</th>\n",
       "      <td>2023-12-28</td>\n",
       "      <td>20.018854</td>\n",
       "      <td>-0.031775</td>\n",
       "      <td>23.492286</td>\n",
       "    </tr>\n",
       "    <tr>\n",
       "      <th>362</th>\n",
       "      <td>2023-12-29</td>\n",
       "      <td>24.659242</td>\n",
       "      <td>-0.031775</td>\n",
       "      <td>20.018854</td>\n",
       "    </tr>\n",
       "    <tr>\n",
       "      <th>363</th>\n",
       "      <td>2023-12-30</td>\n",
       "      <td>21.699825</td>\n",
       "      <td>-0.031775</td>\n",
       "      <td>24.659242</td>\n",
       "    </tr>\n",
       "    <tr>\n",
       "      <th>364</th>\n",
       "      <td>2023-12-31</td>\n",
       "      <td>19.921589</td>\n",
       "      <td>-0.031775</td>\n",
       "      <td>21.699825</td>\n",
       "    </tr>\n",
       "  </tbody>\n",
       "</table>\n",
       "<p>365 rows × 4 columns</p>\n",
       "</div>"
      ],
      "text/plain": [
       "          Date  Temperature    auto_1  previous_temp\n",
       "0   2023-01-01    28.820262 -0.031775            NaN\n",
       "1   2023-01-02    22.000786 -0.031775      28.820262\n",
       "2   2023-01-03    24.893690 -0.031775      22.000786\n",
       "3   2023-01-04    31.204466 -0.031775      24.893690\n",
       "4   2023-01-05    29.337790 -0.031775      31.204466\n",
       "..         ...          ...       ...            ...\n",
       "360 2023-12-27    23.492286 -0.031775      23.101791\n",
       "361 2023-12-28    20.018854 -0.031775      23.492286\n",
       "362 2023-12-29    24.659242 -0.031775      20.018854\n",
       "363 2023-12-30    21.699825 -0.031775      24.659242\n",
       "364 2023-12-31    19.921589 -0.031775      21.699825\n",
       "\n",
       "[365 rows x 4 columns]"
      ]
     },
     "execution_count": 49,
     "metadata": {},
     "output_type": "execute_result"
    }
   ],
   "source": [
    "data"
   ]
  },
  {
   "cell_type": "code",
   "execution_count": 50,
   "id": "77d19654-7d23-4252-8aad-17f4fbcf7d3e",
   "metadata": {},
   "outputs": [],
   "source": [
    "data.dropna(inplace=True)"
   ]
  },
  {
   "cell_type": "code",
   "execution_count": 63,
   "id": "8ee85836-dd49-43b7-a17d-f5901ad33d28",
   "metadata": {},
   "outputs": [],
   "source": [
    "from sklearn.linear_model import LinearRegression as LR"
   ]
  },
  {
   "cell_type": "code",
   "execution_count": 64,
   "id": "4f89674d-ad80-43b0-9381-6e9df1ef119a",
   "metadata": {},
   "outputs": [],
   "source": [
    "data = pd.DataFrame({'Date': dates, 'Temperature': temperatures})"
   ]
  },
  {
   "cell_type": "code",
   "execution_count": 65,
   "id": "82abffb3-f6fd-45c9-9a0f-a1e4f947d269",
   "metadata": {},
   "outputs": [],
   "source": [
    "model = LR()"
   ]
  },
  {
   "cell_type": "code",
   "execution_count": 66,
   "id": "36c175d2-a8b1-40e8-af7c-f7970d8e7ee3",
   "metadata": {},
   "outputs": [
    {
     "data": {
      "text/html": [
       "<style>#sk-container-id-2 {color: black;background-color: white;}#sk-container-id-2 pre{padding: 0;}#sk-container-id-2 div.sk-toggleable {background-color: white;}#sk-container-id-2 label.sk-toggleable__label {cursor: pointer;display: block;width: 100%;margin-bottom: 0;padding: 0.3em;box-sizing: border-box;text-align: center;}#sk-container-id-2 label.sk-toggleable__label-arrow:before {content: \"▸\";float: left;margin-right: 0.25em;color: #696969;}#sk-container-id-2 label.sk-toggleable__label-arrow:hover:before {color: black;}#sk-container-id-2 div.sk-estimator:hover label.sk-toggleable__label-arrow:before {color: black;}#sk-container-id-2 div.sk-toggleable__content {max-height: 0;max-width: 0;overflow: hidden;text-align: left;background-color: #f0f8ff;}#sk-container-id-2 div.sk-toggleable__content pre {margin: 0.2em;color: black;border-radius: 0.25em;background-color: #f0f8ff;}#sk-container-id-2 input.sk-toggleable__control:checked~div.sk-toggleable__content {max-height: 200px;max-width: 100%;overflow: auto;}#sk-container-id-2 input.sk-toggleable__control:checked~label.sk-toggleable__label-arrow:before {content: \"▾\";}#sk-container-id-2 div.sk-estimator input.sk-toggleable__control:checked~label.sk-toggleable__label {background-color: #d4ebff;}#sk-container-id-2 div.sk-label input.sk-toggleable__control:checked~label.sk-toggleable__label {background-color: #d4ebff;}#sk-container-id-2 input.sk-hidden--visually {border: 0;clip: rect(1px 1px 1px 1px);clip: rect(1px, 1px, 1px, 1px);height: 1px;margin: -1px;overflow: hidden;padding: 0;position: absolute;width: 1px;}#sk-container-id-2 div.sk-estimator {font-family: monospace;background-color: #f0f8ff;border: 1px dotted black;border-radius: 0.25em;box-sizing: border-box;margin-bottom: 0.5em;}#sk-container-id-2 div.sk-estimator:hover {background-color: #d4ebff;}#sk-container-id-2 div.sk-parallel-item::after {content: \"\";width: 100%;border-bottom: 1px solid gray;flex-grow: 1;}#sk-container-id-2 div.sk-label:hover label.sk-toggleable__label {background-color: #d4ebff;}#sk-container-id-2 div.sk-serial::before {content: \"\";position: absolute;border-left: 1px solid gray;box-sizing: border-box;top: 0;bottom: 0;left: 50%;z-index: 0;}#sk-container-id-2 div.sk-serial {display: flex;flex-direction: column;align-items: center;background-color: white;padding-right: 0.2em;padding-left: 0.2em;position: relative;}#sk-container-id-2 div.sk-item {position: relative;z-index: 1;}#sk-container-id-2 div.sk-parallel {display: flex;align-items: stretch;justify-content: center;background-color: white;position: relative;}#sk-container-id-2 div.sk-item::before, #sk-container-id-2 div.sk-parallel-item::before {content: \"\";position: absolute;border-left: 1px solid gray;box-sizing: border-box;top: 0;bottom: 0;left: 50%;z-index: -1;}#sk-container-id-2 div.sk-parallel-item {display: flex;flex-direction: column;z-index: 1;position: relative;background-color: white;}#sk-container-id-2 div.sk-parallel-item:first-child::after {align-self: flex-end;width: 50%;}#sk-container-id-2 div.sk-parallel-item:last-child::after {align-self: flex-start;width: 50%;}#sk-container-id-2 div.sk-parallel-item:only-child::after {width: 0;}#sk-container-id-2 div.sk-dashed-wrapped {border: 1px dashed gray;margin: 0 0.4em 0.5em 0.4em;box-sizing: border-box;padding-bottom: 0.4em;background-color: white;}#sk-container-id-2 div.sk-label label {font-family: monospace;font-weight: bold;display: inline-block;line-height: 1.2em;}#sk-container-id-2 div.sk-label-container {text-align: center;}#sk-container-id-2 div.sk-container {/* jupyter's `normalize.less` sets `[hidden] { display: none; }` but bootstrap.min.css set `[hidden] { display: none !important; }` so we also need the `!important` here to be able to override the default hidden behavior on the sphinx rendered scikit-learn.org. See: https://github.com/scikit-learn/scikit-learn/issues/21755 */display: inline-block !important;position: relative;}#sk-container-id-2 div.sk-text-repr-fallback {display: none;}</style><div id=\"sk-container-id-2\" class=\"sk-top-container\"><div class=\"sk-text-repr-fallback\"><pre>LinearRegression()</pre><b>In a Jupyter environment, please rerun this cell to show the HTML representation or trust the notebook. <br />On GitHub, the HTML representation is unable to render, please try loading this page with nbviewer.org.</b></div><div class=\"sk-container\" hidden><div class=\"sk-item\"><div class=\"sk-estimator sk-toggleable\"><input class=\"sk-toggleable__control sk-hidden--visually\" id=\"sk-estimator-id-2\" type=\"checkbox\" checked><label for=\"sk-estimator-id-2\" class=\"sk-toggleable__label sk-toggleable__label-arrow\">LinearRegression</label><div class=\"sk-toggleable__content\"><pre>LinearRegression()</pre></div></div></div></div></div>"
      ],
      "text/plain": [
       "LinearRegression()"
      ]
     },
     "execution_count": 66,
     "metadata": {},
     "output_type": "execute_result"
    }
   ],
   "source": [
    "model.fit(X,y)"
   ]
  },
  {
   "cell_type": "code",
   "execution_count": 67,
   "id": "629f50bc-ac95-497b-99e1-d32b9ca9fd5c",
   "metadata": {},
   "outputs": [
    {
     "name": "stderr",
     "output_type": "stream",
     "text": [
      "C:\\Users\\kirti\\anaconda3\\Lib\\site-packages\\sklearn\\base.py:439: UserWarning: X does not have valid feature names, but LinearRegression was fitted with feature names\n",
      "  warnings.warn(\n"
     ]
    }
   ],
   "source": [
    "prediction = model.predict([[data['Temperature'].iloc[-1]]])"
   ]
  },
  {
   "cell_type": "code",
   "execution_count": 70,
   "id": "90e4cbe8-bc6d-45fe-a791-05be3c267d1b",
   "metadata": {},
   "outputs": [
    {
     "name": "stdout",
     "output_type": "stream",
     "text": [
      "Predicted Temperature for the next day: 19.91 °C\n"
     ]
    }
   ],
   "source": [
    "print(f\"Predicted Temperature for the next day: {prediction[0]:.2f} °C\")\n"
   ]
  },
  {
   "cell_type": "code",
   "execution_count": 73,
   "id": "07014421-5b2a-47c0-8dbe-80799a353850",
   "metadata": {},
   "outputs": [],
   "source": [
    "np.random.seed(0)\n",
    "days = 500\n",
    "returns = np.random.normal(loc=0.001, scale=0.02, size=days)  # Daily returns with mean=0.001, std dev=0.02\n",
    "prices = np.cumprod(1 + returns) * 100  # Cumulative product to get price series starting at 100\n",
    "\n",
    "# Create a pandas DataFrame for the financial data\n",
    "dates = pd.date_range('2020-01-01', periods=days)\n",
    "df = pd.DataFrame({'Date': dates, 'Price': prices})"
   ]
  },
  {
   "cell_type": "code",
   "execution_count": 74,
   "id": "6fd3c6dc-963b-40e8-acbd-2bea0bd0fca7",
   "metadata": {},
   "outputs": [
    {
     "data": {
      "text/html": [
       "<div>\n",
       "<style scoped>\n",
       "    .dataframe tbody tr th:only-of-type {\n",
       "        vertical-align: middle;\n",
       "    }\n",
       "\n",
       "    .dataframe tbody tr th {\n",
       "        vertical-align: top;\n",
       "    }\n",
       "\n",
       "    .dataframe thead th {\n",
       "        text-align: right;\n",
       "    }\n",
       "</style>\n",
       "<table border=\"1\" class=\"dataframe\">\n",
       "  <thead>\n",
       "    <tr style=\"text-align: right;\">\n",
       "      <th></th>\n",
       "      <th>Date</th>\n",
       "      <th>Price</th>\n",
       "    </tr>\n",
       "  </thead>\n",
       "  <tbody>\n",
       "    <tr>\n",
       "      <th>0</th>\n",
       "      <td>2020-01-01</td>\n",
       "      <td>103.628105</td>\n",
       "    </tr>\n",
       "    <tr>\n",
       "      <th>1</th>\n",
       "      <td>2020-01-02</td>\n",
       "      <td>104.561083</td>\n",
       "    </tr>\n",
       "    <tr>\n",
       "      <th>2</th>\n",
       "      <td>2020-01-03</td>\n",
       "      <td>106.712403</td>\n",
       "    </tr>\n",
       "    <tr>\n",
       "      <th>3</th>\n",
       "      <td>2020-01-04</td>\n",
       "      <td>111.601737</td>\n",
       "    </tr>\n",
       "    <tr>\n",
       "      <th>4</th>\n",
       "      <td>2020-01-05</td>\n",
       "      <td>115.881793</td>\n",
       "    </tr>\n",
       "    <tr>\n",
       "      <th>...</th>\n",
       "      <td>...</td>\n",
       "      <td>...</td>\n",
       "    </tr>\n",
       "    <tr>\n",
       "      <th>495</th>\n",
       "      <td>2021-05-10</td>\n",
       "      <td>120.746637</td>\n",
       "    </tr>\n",
       "    <tr>\n",
       "      <th>496</th>\n",
       "      <td>2021-05-11</td>\n",
       "      <td>119.277023</td>\n",
       "    </tr>\n",
       "    <tr>\n",
       "      <th>497</th>\n",
       "      <td>2021-05-12</td>\n",
       "      <td>118.169574</td>\n",
       "    </tr>\n",
       "    <tr>\n",
       "      <th>498</th>\n",
       "      <td>2021-05-13</td>\n",
       "      <td>115.881712</td>\n",
       "    </tr>\n",
       "    <tr>\n",
       "      <th>499</th>\n",
       "      <td>2021-05-14</td>\n",
       "      <td>115.817155</td>\n",
       "    </tr>\n",
       "  </tbody>\n",
       "</table>\n",
       "<p>500 rows × 2 columns</p>\n",
       "</div>"
      ],
      "text/plain": [
       "          Date       Price\n",
       "0   2020-01-01  103.628105\n",
       "1   2020-01-02  104.561083\n",
       "2   2020-01-03  106.712403\n",
       "3   2020-01-04  111.601737\n",
       "4   2020-01-05  115.881793\n",
       "..         ...         ...\n",
       "495 2021-05-10  120.746637\n",
       "496 2021-05-11  119.277023\n",
       "497 2021-05-12  118.169574\n",
       "498 2021-05-13  115.881712\n",
       "499 2021-05-14  115.817155\n",
       "\n",
       "[500 rows x 2 columns]"
      ]
     },
     "execution_count": 74,
     "metadata": {},
     "output_type": "execute_result"
    }
   ],
   "source": [
    "df"
   ]
  },
  {
   "cell_type": "code",
   "execution_count": 75,
   "id": "1fb6ba84-a41b-438a-88c1-e5b01a25495b",
   "metadata": {},
   "outputs": [],
   "source": [
    "df['auto_lag_1'] = df['Price'].autocorr(lag=1)\n",
    "df['previous_price'] = df['Price'].shift(1)"
   ]
  },
  {
   "cell_type": "code",
   "execution_count": 76,
   "id": "e0fcd3d6-2217-4d0b-8ae3-3d37003afa63",
   "metadata": {},
   "outputs": [
    {
     "data": {
      "text/html": [
       "<div>\n",
       "<style scoped>\n",
       "    .dataframe tbody tr th:only-of-type {\n",
       "        vertical-align: middle;\n",
       "    }\n",
       "\n",
       "    .dataframe tbody tr th {\n",
       "        vertical-align: top;\n",
       "    }\n",
       "\n",
       "    .dataframe thead th {\n",
       "        text-align: right;\n",
       "    }\n",
       "</style>\n",
       "<table border=\"1\" class=\"dataframe\">\n",
       "  <thead>\n",
       "    <tr style=\"text-align: right;\">\n",
       "      <th></th>\n",
       "      <th>Date</th>\n",
       "      <th>Price</th>\n",
       "      <th>auto_lag_1</th>\n",
       "      <th>previous_price</th>\n",
       "    </tr>\n",
       "  </thead>\n",
       "  <tbody>\n",
       "    <tr>\n",
       "      <th>0</th>\n",
       "      <td>2020-01-01</td>\n",
       "      <td>103.628105</td>\n",
       "      <td>0.991198</td>\n",
       "      <td>NaN</td>\n",
       "    </tr>\n",
       "    <tr>\n",
       "      <th>1</th>\n",
       "      <td>2020-01-02</td>\n",
       "      <td>104.561083</td>\n",
       "      <td>0.991198</td>\n",
       "      <td>103.628105</td>\n",
       "    </tr>\n",
       "    <tr>\n",
       "      <th>2</th>\n",
       "      <td>2020-01-03</td>\n",
       "      <td>106.712403</td>\n",
       "      <td>0.991198</td>\n",
       "      <td>104.561083</td>\n",
       "    </tr>\n",
       "    <tr>\n",
       "      <th>3</th>\n",
       "      <td>2020-01-04</td>\n",
       "      <td>111.601737</td>\n",
       "      <td>0.991198</td>\n",
       "      <td>106.712403</td>\n",
       "    </tr>\n",
       "    <tr>\n",
       "      <th>4</th>\n",
       "      <td>2020-01-05</td>\n",
       "      <td>115.881793</td>\n",
       "      <td>0.991198</td>\n",
       "      <td>111.601737</td>\n",
       "    </tr>\n",
       "    <tr>\n",
       "      <th>...</th>\n",
       "      <td>...</td>\n",
       "      <td>...</td>\n",
       "      <td>...</td>\n",
       "      <td>...</td>\n",
       "    </tr>\n",
       "    <tr>\n",
       "      <th>495</th>\n",
       "      <td>2021-05-10</td>\n",
       "      <td>120.746637</td>\n",
       "      <td>0.991198</td>\n",
       "      <td>120.804442</td>\n",
       "    </tr>\n",
       "    <tr>\n",
       "      <th>496</th>\n",
       "      <td>2021-05-11</td>\n",
       "      <td>119.277023</td>\n",
       "      <td>0.991198</td>\n",
       "      <td>120.746637</td>\n",
       "    </tr>\n",
       "    <tr>\n",
       "      <th>497</th>\n",
       "      <td>2021-05-12</td>\n",
       "      <td>118.169574</td>\n",
       "      <td>0.991198</td>\n",
       "      <td>119.277023</td>\n",
       "    </tr>\n",
       "    <tr>\n",
       "      <th>498</th>\n",
       "      <td>2021-05-13</td>\n",
       "      <td>115.881712</td>\n",
       "      <td>0.991198</td>\n",
       "      <td>118.169574</td>\n",
       "    </tr>\n",
       "    <tr>\n",
       "      <th>499</th>\n",
       "      <td>2021-05-14</td>\n",
       "      <td>115.817155</td>\n",
       "      <td>0.991198</td>\n",
       "      <td>115.881712</td>\n",
       "    </tr>\n",
       "  </tbody>\n",
       "</table>\n",
       "<p>500 rows × 4 columns</p>\n",
       "</div>"
      ],
      "text/plain": [
       "          Date       Price  auto_lag_1  previous_price\n",
       "0   2020-01-01  103.628105    0.991198             NaN\n",
       "1   2020-01-02  104.561083    0.991198      103.628105\n",
       "2   2020-01-03  106.712403    0.991198      104.561083\n",
       "3   2020-01-04  111.601737    0.991198      106.712403\n",
       "4   2020-01-05  115.881793    0.991198      111.601737\n",
       "..         ...         ...         ...             ...\n",
       "495 2021-05-10  120.746637    0.991198      120.804442\n",
       "496 2021-05-11  119.277023    0.991198      120.746637\n",
       "497 2021-05-12  118.169574    0.991198      119.277023\n",
       "498 2021-05-13  115.881712    0.991198      118.169574\n",
       "499 2021-05-14  115.817155    0.991198      115.881712\n",
       "\n",
       "[500 rows x 4 columns]"
      ]
     },
     "execution_count": 76,
     "metadata": {},
     "output_type": "execute_result"
    }
   ],
   "source": [
    "df"
   ]
  },
  {
   "cell_type": "code",
   "execution_count": 77,
   "id": "b277e13c-429c-4c63-8f4f-7463893ca4c4",
   "metadata": {},
   "outputs": [],
   "source": [
    "df.dropna(inplace=True)"
   ]
  },
  {
   "cell_type": "code",
   "execution_count": 78,
   "id": "01f183bd-43b5-41e7-8f1e-556b1572289a",
   "metadata": {},
   "outputs": [
    {
     "data": {
      "text/html": [
       "<div>\n",
       "<style scoped>\n",
       "    .dataframe tbody tr th:only-of-type {\n",
       "        vertical-align: middle;\n",
       "    }\n",
       "\n",
       "    .dataframe tbody tr th {\n",
       "        vertical-align: top;\n",
       "    }\n",
       "\n",
       "    .dataframe thead th {\n",
       "        text-align: right;\n",
       "    }\n",
       "</style>\n",
       "<table border=\"1\" class=\"dataframe\">\n",
       "  <thead>\n",
       "    <tr style=\"text-align: right;\">\n",
       "      <th></th>\n",
       "      <th>Date</th>\n",
       "      <th>Price</th>\n",
       "      <th>auto_lag_1</th>\n",
       "      <th>previous_price</th>\n",
       "    </tr>\n",
       "  </thead>\n",
       "  <tbody>\n",
       "    <tr>\n",
       "      <th>1</th>\n",
       "      <td>2020-01-02</td>\n",
       "      <td>104.561083</td>\n",
       "      <td>0.991198</td>\n",
       "      <td>103.628105</td>\n",
       "    </tr>\n",
       "    <tr>\n",
       "      <th>2</th>\n",
       "      <td>2020-01-03</td>\n",
       "      <td>106.712403</td>\n",
       "      <td>0.991198</td>\n",
       "      <td>104.561083</td>\n",
       "    </tr>\n",
       "    <tr>\n",
       "      <th>3</th>\n",
       "      <td>2020-01-04</td>\n",
       "      <td>111.601737</td>\n",
       "      <td>0.991198</td>\n",
       "      <td>106.712403</td>\n",
       "    </tr>\n",
       "    <tr>\n",
       "      <th>4</th>\n",
       "      <td>2020-01-05</td>\n",
       "      <td>115.881793</td>\n",
       "      <td>0.991198</td>\n",
       "      <td>111.601737</td>\n",
       "    </tr>\n",
       "    <tr>\n",
       "      <th>5</th>\n",
       "      <td>2020-01-06</td>\n",
       "      <td>113.732701</td>\n",
       "      <td>0.991198</td>\n",
       "      <td>115.881793</td>\n",
       "    </tr>\n",
       "    <tr>\n",
       "      <th>...</th>\n",
       "      <td>...</td>\n",
       "      <td>...</td>\n",
       "      <td>...</td>\n",
       "      <td>...</td>\n",
       "    </tr>\n",
       "    <tr>\n",
       "      <th>495</th>\n",
       "      <td>2021-05-10</td>\n",
       "      <td>120.746637</td>\n",
       "      <td>0.991198</td>\n",
       "      <td>120.804442</td>\n",
       "    </tr>\n",
       "    <tr>\n",
       "      <th>496</th>\n",
       "      <td>2021-05-11</td>\n",
       "      <td>119.277023</td>\n",
       "      <td>0.991198</td>\n",
       "      <td>120.746637</td>\n",
       "    </tr>\n",
       "    <tr>\n",
       "      <th>497</th>\n",
       "      <td>2021-05-12</td>\n",
       "      <td>118.169574</td>\n",
       "      <td>0.991198</td>\n",
       "      <td>119.277023</td>\n",
       "    </tr>\n",
       "    <tr>\n",
       "      <th>498</th>\n",
       "      <td>2021-05-13</td>\n",
       "      <td>115.881712</td>\n",
       "      <td>0.991198</td>\n",
       "      <td>118.169574</td>\n",
       "    </tr>\n",
       "    <tr>\n",
       "      <th>499</th>\n",
       "      <td>2021-05-14</td>\n",
       "      <td>115.817155</td>\n",
       "      <td>0.991198</td>\n",
       "      <td>115.881712</td>\n",
       "    </tr>\n",
       "  </tbody>\n",
       "</table>\n",
       "<p>499 rows × 4 columns</p>\n",
       "</div>"
      ],
      "text/plain": [
       "          Date       Price  auto_lag_1  previous_price\n",
       "1   2020-01-02  104.561083    0.991198      103.628105\n",
       "2   2020-01-03  106.712403    0.991198      104.561083\n",
       "3   2020-01-04  111.601737    0.991198      106.712403\n",
       "4   2020-01-05  115.881793    0.991198      111.601737\n",
       "5   2020-01-06  113.732701    0.991198      115.881793\n",
       "..         ...         ...         ...             ...\n",
       "495 2021-05-10  120.746637    0.991198      120.804442\n",
       "496 2021-05-11  119.277023    0.991198      120.746637\n",
       "497 2021-05-12  118.169574    0.991198      119.277023\n",
       "498 2021-05-13  115.881712    0.991198      118.169574\n",
       "499 2021-05-14  115.817155    0.991198      115.881712\n",
       "\n",
       "[499 rows x 4 columns]"
      ]
     },
     "execution_count": 78,
     "metadata": {},
     "output_type": "execute_result"
    }
   ],
   "source": [
    "df"
   ]
  },
  {
   "cell_type": "code",
   "execution_count": 79,
   "id": "739b6301-11ff-42e4-9ed9-4d17f74ef322",
   "metadata": {},
   "outputs": [],
   "source": [
    "models = LR()"
   ]
  },
  {
   "cell_type": "code",
   "execution_count": 83,
   "id": "195d3081-2fcb-4c76-b671-defec3535dc1",
   "metadata": {},
   "outputs": [],
   "source": [
    "A = df[['previous_price']]\n",
    "b = df['Price']"
   ]
  },
  {
   "cell_type": "code",
   "execution_count": 84,
   "id": "4a539811-5cff-4d1c-973e-2f06ec63046e",
   "metadata": {},
   "outputs": [
    {
     "data": {
      "text/html": [
       "<style>#sk-container-id-4 {color: black;background-color: white;}#sk-container-id-4 pre{padding: 0;}#sk-container-id-4 div.sk-toggleable {background-color: white;}#sk-container-id-4 label.sk-toggleable__label {cursor: pointer;display: block;width: 100%;margin-bottom: 0;padding: 0.3em;box-sizing: border-box;text-align: center;}#sk-container-id-4 label.sk-toggleable__label-arrow:before {content: \"▸\";float: left;margin-right: 0.25em;color: #696969;}#sk-container-id-4 label.sk-toggleable__label-arrow:hover:before {color: black;}#sk-container-id-4 div.sk-estimator:hover label.sk-toggleable__label-arrow:before {color: black;}#sk-container-id-4 div.sk-toggleable__content {max-height: 0;max-width: 0;overflow: hidden;text-align: left;background-color: #f0f8ff;}#sk-container-id-4 div.sk-toggleable__content pre {margin: 0.2em;color: black;border-radius: 0.25em;background-color: #f0f8ff;}#sk-container-id-4 input.sk-toggleable__control:checked~div.sk-toggleable__content {max-height: 200px;max-width: 100%;overflow: auto;}#sk-container-id-4 input.sk-toggleable__control:checked~label.sk-toggleable__label-arrow:before {content: \"▾\";}#sk-container-id-4 div.sk-estimator input.sk-toggleable__control:checked~label.sk-toggleable__label {background-color: #d4ebff;}#sk-container-id-4 div.sk-label input.sk-toggleable__control:checked~label.sk-toggleable__label {background-color: #d4ebff;}#sk-container-id-4 input.sk-hidden--visually {border: 0;clip: rect(1px 1px 1px 1px);clip: rect(1px, 1px, 1px, 1px);height: 1px;margin: -1px;overflow: hidden;padding: 0;position: absolute;width: 1px;}#sk-container-id-4 div.sk-estimator {font-family: monospace;background-color: #f0f8ff;border: 1px dotted black;border-radius: 0.25em;box-sizing: border-box;margin-bottom: 0.5em;}#sk-container-id-4 div.sk-estimator:hover {background-color: #d4ebff;}#sk-container-id-4 div.sk-parallel-item::after {content: \"\";width: 100%;border-bottom: 1px solid gray;flex-grow: 1;}#sk-container-id-4 div.sk-label:hover label.sk-toggleable__label {background-color: #d4ebff;}#sk-container-id-4 div.sk-serial::before {content: \"\";position: absolute;border-left: 1px solid gray;box-sizing: border-box;top: 0;bottom: 0;left: 50%;z-index: 0;}#sk-container-id-4 div.sk-serial {display: flex;flex-direction: column;align-items: center;background-color: white;padding-right: 0.2em;padding-left: 0.2em;position: relative;}#sk-container-id-4 div.sk-item {position: relative;z-index: 1;}#sk-container-id-4 div.sk-parallel {display: flex;align-items: stretch;justify-content: center;background-color: white;position: relative;}#sk-container-id-4 div.sk-item::before, #sk-container-id-4 div.sk-parallel-item::before {content: \"\";position: absolute;border-left: 1px solid gray;box-sizing: border-box;top: 0;bottom: 0;left: 50%;z-index: -1;}#sk-container-id-4 div.sk-parallel-item {display: flex;flex-direction: column;z-index: 1;position: relative;background-color: white;}#sk-container-id-4 div.sk-parallel-item:first-child::after {align-self: flex-end;width: 50%;}#sk-container-id-4 div.sk-parallel-item:last-child::after {align-self: flex-start;width: 50%;}#sk-container-id-4 div.sk-parallel-item:only-child::after {width: 0;}#sk-container-id-4 div.sk-dashed-wrapped {border: 1px dashed gray;margin: 0 0.4em 0.5em 0.4em;box-sizing: border-box;padding-bottom: 0.4em;background-color: white;}#sk-container-id-4 div.sk-label label {font-family: monospace;font-weight: bold;display: inline-block;line-height: 1.2em;}#sk-container-id-4 div.sk-label-container {text-align: center;}#sk-container-id-4 div.sk-container {/* jupyter's `normalize.less` sets `[hidden] { display: none; }` but bootstrap.min.css set `[hidden] { display: none !important; }` so we also need the `!important` here to be able to override the default hidden behavior on the sphinx rendered scikit-learn.org. See: https://github.com/scikit-learn/scikit-learn/issues/21755 */display: inline-block !important;position: relative;}#sk-container-id-4 div.sk-text-repr-fallback {display: none;}</style><div id=\"sk-container-id-4\" class=\"sk-top-container\"><div class=\"sk-text-repr-fallback\"><pre>LinearRegression()</pre><b>In a Jupyter environment, please rerun this cell to show the HTML representation or trust the notebook. <br />On GitHub, the HTML representation is unable to render, please try loading this page with nbviewer.org.</b></div><div class=\"sk-container\" hidden><div class=\"sk-item\"><div class=\"sk-estimator sk-toggleable\"><input class=\"sk-toggleable__control sk-hidden--visually\" id=\"sk-estimator-id-4\" type=\"checkbox\" checked><label for=\"sk-estimator-id-4\" class=\"sk-toggleable__label sk-toggleable__label-arrow\">LinearRegression</label><div class=\"sk-toggleable__content\"><pre>LinearRegression()</pre></div></div></div></div></div>"
      ],
      "text/plain": [
       "LinearRegression()"
      ]
     },
     "execution_count": 84,
     "metadata": {},
     "output_type": "execute_result"
    }
   ],
   "source": [
    "models.fit(A,b)"
   ]
  },
  {
   "cell_type": "code",
   "execution_count": 86,
   "id": "56fb7025-4187-4c7e-a6be-fa7ffc3d97dc",
   "metadata": {},
   "outputs": [
    {
     "name": "stderr",
     "output_type": "stream",
     "text": [
      "C:\\Users\\kirti\\anaconda3\\Lib\\site-packages\\sklearn\\base.py:439: UserWarning: X does not have valid feature names, but LinearRegression was fitted with feature names\n",
      "  warnings.warn(\n"
     ]
    }
   ],
   "source": [
    "predicted_price = model.predict([[df['Price'].iloc[-1]]])"
   ]
  },
  {
   "cell_type": "code",
   "execution_count": 88,
   "id": "c7c120b2-c0d4-4b4a-9417-0954e786d5ec",
   "metadata": {},
   "outputs": [
    {
     "name": "stdout",
     "output_type": "stream",
     "text": [
      "Predicted Price for the next day: 16.88\n"
     ]
    }
   ],
   "source": [
    "print(f\"Predicted Price for the next day: {predicted_price[0]:.2f}\")"
   ]
  },
  {
   "cell_type": "code",
   "execution_count": null,
   "id": "8acd0f76-0e6d-463f-9012-571c52d42c66",
   "metadata": {},
   "outputs": [],
   "source": []
  }
 ],
 "metadata": {
  "kernelspec": {
   "display_name": "Python 3 (ipykernel)",
   "language": "python",
   "name": "python3"
  },
  "language_info": {
   "codemirror_mode": {
    "name": "ipython",
    "version": 3
   },
   "file_extension": ".py",
   "mimetype": "text/x-python",
   "name": "python",
   "nbconvert_exporter": "python",
   "pygments_lexer": "ipython3",
   "version": "3.11.7"
  }
 },
 "nbformat": 4,
 "nbformat_minor": 5
}
